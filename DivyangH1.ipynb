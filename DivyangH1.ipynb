{
  "nbformat": 4,
  "nbformat_minor": 0,
  "metadata": {
    "colab": {
      "name": "DivyangH1.ipynb",
      "provenance": [],
      "collapsed_sections": []
    },
    "kernelspec": {
      "name": "python3",
      "display_name": "Python 3"
    },
    "language_info": {
      "name": "python"
    }
  },
  "cells": [
    {
      "cell_type": "markdown",
      "metadata": {
        "id": "8mzKCfo7S875"
      },
      "source": [
        "**Importing basic libraries**"
      ]
    },
    {
      "cell_type": "code",
      "metadata": {
        "id": "ikM2uRadWGUS"
      },
      "source": [
        "import numpy as np \n",
        "import pandas as pd \n",
        "import io\n",
        "import matplotlib.pyplot as plt\n",
        "import seaborn as sns\n",
        "import os\n",
        "from sklearn.preprocessing import LabelEncoder\n",
        "from sklearn.compose import ColumnTransformer\n",
        "from sklearn.preprocessing import StandardScaler, MinMaxScaler, RobustScaler\n",
        "from xgboost import XGBRegressor"
      ],
      "execution_count": 297,
      "outputs": []
    },
    {
      "cell_type": "code",
      "metadata": {
        "colab": {
          "base_uri": "https://localhost:8080/"
        },
        "id": "mEl2-ESzX7aD",
        "outputId": "afe8c4a3-e897-4b69-a9c8-bdad1d0141a6"
      },
      "source": [
        "# Load the Drive helper and mount\n",
        "from google.colab import drive\n",
        "\n",
        "# This will prompt for authorization.\n",
        "drive.mount('/content/drive')\n"
      ],
      "execution_count": 224,
      "outputs": [
        {
          "output_type": "stream",
          "name": "stdout",
          "text": [
            "Drive already mounted at /content/drive; to attempt to forcibly remount, call drive.mount(\"/content/drive\", force_remount=True).\n"
          ]
        }
      ]
    },
    {
      "cell_type": "code",
      "metadata": {
        "colab": {
          "base_uri": "https://localhost:8080/"
        },
        "id": "TQxF-qwcYta3",
        "outputId": "e9037dec-e30d-42d7-b887-1d2cb4f22f78"
      },
      "source": [
        "\n",
        "path = \"/content/drive/MyDrive/ML FILES/TRAINING.csv\"\n",
        "\n",
        "!ls \"/content/drive/MyDrive/ML FILES/TRAINING.csv\""
      ],
      "execution_count": 245,
      "outputs": [
        {
          "output_type": "stream",
          "name": "stdout",
          "text": [
            "'/content/drive/MyDrive/ML FILES/TRAINING.csv'\n"
          ]
        }
      ]
    },
    {
      "cell_type": "markdown",
      "metadata": {
        "id": "tBaTaloFTL0a"
      },
      "source": [
        "**Loading data and viewing it**"
      ]
    },
    {
      "cell_type": "markdown",
      "metadata": {
        "id": "Fr2px2T2iSk4"
      },
      "source": [
        "**After viewing in excel file the data was misaligned and miss matched i have manually performed deleting extra column and rearranging data as per column**"
      ]
    },
    {
      "cell_type": "code",
      "metadata": {
        "colab": {
          "base_uri": "https://localhost:8080/",
          "height": 581
        },
        "id": "ETunI04bZJWu",
        "outputId": "fef05de7-dc7a-4d1a-e7fd-17e8950e6204"
      },
      "source": [
        "train = \"/content/drive/MyDrive/TRAINING.csv\"\n",
        "df = pd.read_csv(train , header = 0, error_bad_lines=False, index_col=False)\n",
        "df.head()"
      ],
      "execution_count": 246,
      "outputs": [
        {
          "output_type": "stream",
          "name": "stderr",
          "text": [
            "/usr/local/lib/python3.7/dist-packages/IPython/core/interactiveshell.py:2718: DtypeWarning: Columns (7,15,21,24) have mixed types.Specify dtype option on import or set low_memory=False.\n",
            "  interactivity=interactivity, compiler=compiler, result=result)\n"
          ]
        },
        {
          "output_type": "execute_result",
          "data": {
            "text/html": [
              "<div>\n",
              "<style scoped>\n",
              "    .dataframe tbody tr th:only-of-type {\n",
              "        vertical-align: middle;\n",
              "    }\n",
              "\n",
              "    .dataframe tbody tr th {\n",
              "        vertical-align: top;\n",
              "    }\n",
              "\n",
              "    .dataframe thead th {\n",
              "        text-align: right;\n",
              "    }\n",
              "</style>\n",
              "<table border=\"1\" class=\"dataframe\">\n",
              "  <thead>\n",
              "    <tr style=\"text-align: right;\">\n",
              "      <th></th>\n",
              "      <th>Item Code</th>\n",
              "      <th>State</th>\n",
              "      <th>Date</th>\n",
              "      <th>Item Description</th>\n",
              "      <th>ERP Size</th>\n",
              "      <th>Wall/Floor</th>\n",
              "      <th>Sticker Body Type</th>\n",
              "      <th>Value</th>\n",
              "      <th>Item Classification</th>\n",
              "      <th>Item Cat. Code</th>\n",
              "      <th>Quality Code</th>\n",
              "      <th>Customer code</th>\n",
              "      <th>Customer type</th>\n",
              "      <th>Sales Type</th>\n",
              "      <th>Sales Type.1</th>\n",
              "      <th>MRP / box</th>\n",
              "      <th>MRP / sqm</th>\n",
              "      <th>AD1/Sqm</th>\n",
              "      <th>AD2/Sqm</th>\n",
              "      <th>AD3/Sqm</th>\n",
              "      <th>AD4/Sqm</th>\n",
              "      <th>AD5/Sqm</th>\n",
              "      <th>AD6/Sqm</th>\n",
              "      <th>AD7/Sqm</th>\n",
              "      <th>Total AD /sqm</th>\n",
              "      <th>Billing rate/sqm</th>\n",
              "      <th>Buyer Rate/sqm</th>\n",
              "      <th>Ship to city</th>\n",
              "      <th>FY</th>\n",
              "      <th>Category</th>\n",
              "      <th>Review zone</th>\n",
              "      <th>Category 2</th>\n",
              "      <th>Re territory</th>\n",
              "    </tr>\n",
              "  </thead>\n",
              "  <tbody>\n",
              "    <tr>\n",
              "      <th>0</th>\n",
              "      <td>C025506652701860361M</td>\n",
              "      <td>Assam</td>\n",
              "      <td>06/08/18</td>\n",
              "      <td>600X600 PGVT Botticino Classico 4 Pcs Prem</td>\n",
              "      <td>600X600</td>\n",
              "      <td>Floor</td>\n",
              "      <td>Vitrified</td>\n",
              "      <td>174096</td>\n",
              "      <td>S0660551+AF8-1</td>\n",
              "      <td>M001</td>\n",
              "      <td>1.0</td>\n",
              "      <td>C101103004812120</td>\n",
              "      <td>Guwahati</td>\n",
              "      <td>DEALER</td>\n",
              "      <td>Retail</td>\n",
              "      <td>1380</td>\n",
              "      <td>958.33</td>\n",
              "      <td>25.0</td>\n",
              "      <td>5.0</td>\n",
              "      <td>5.0</td>\n",
              "      <td>0.0</td>\n",
              "      <td>0</td>\n",
              "      <td>0</td>\n",
              "      <td>0</td>\n",
              "      <td>35</td>\n",
              "      <td>403.0</td>\n",
              "      <td>438.0</td>\n",
              "      <td>Guwahati</td>\n",
              "      <td>2018+AC0-19</td>\n",
              "      <td>HVP</td>\n",
              "      <td>East</td>\n",
              "      <td>GVT</td>\n",
              "      <td>N.EAST</td>\n",
              "    </tr>\n",
              "    <tr>\n",
              "      <th>1</th>\n",
              "      <td>C025506661491859361M</td>\n",
              "      <td>Assam</td>\n",
              "      <td>06/08/18</td>\n",
              "      <td>600X600 PGVT Botticino Classico 4 Pcs Prem</td>\n",
              "      <td>600X600</td>\n",
              "      <td>Floor</td>\n",
              "      <td>Vitrified</td>\n",
              "      <td>174096</td>\n",
              "      <td>S0660551+AF8-1</td>\n",
              "      <td>M001</td>\n",
              "      <td>1.0</td>\n",
              "      <td>C101103004812120</td>\n",
              "      <td>Guwahati</td>\n",
              "      <td>DEALER</td>\n",
              "      <td>Retail</td>\n",
              "      <td>1380</td>\n",
              "      <td>958.33</td>\n",
              "      <td>25.0</td>\n",
              "      <td>5.0</td>\n",
              "      <td>5.0</td>\n",
              "      <td>0.0</td>\n",
              "      <td>0</td>\n",
              "      <td>0</td>\n",
              "      <td>0</td>\n",
              "      <td>35</td>\n",
              "      <td>403.0</td>\n",
              "      <td>438.0</td>\n",
              "      <td>Guwahati</td>\n",
              "      <td>2018+AC0-19</td>\n",
              "      <td>HVP</td>\n",
              "      <td>East</td>\n",
              "      <td>GVT</td>\n",
              "      <td>N.EAST</td>\n",
              "    </tr>\n",
              "    <tr>\n",
              "      <th>2</th>\n",
              "      <td>C025506665870335361M</td>\n",
              "      <td>Assam</td>\n",
              "      <td>06/08/18</td>\n",
              "      <td>600X600 PGVT Carara Elegance 4 Pcs Prem</td>\n",
              "      <td>600X600</td>\n",
              "      <td>Floor</td>\n",
              "      <td>Vitrified</td>\n",
              "      <td>174096</td>\n",
              "      <td>S0660551+AF8-1</td>\n",
              "      <td>M001</td>\n",
              "      <td>1.0</td>\n",
              "      <td>C101103004812120</td>\n",
              "      <td>Guwahati</td>\n",
              "      <td>DEALER</td>\n",
              "      <td>Retail</td>\n",
              "      <td>1380</td>\n",
              "      <td>958.33</td>\n",
              "      <td>25.0</td>\n",
              "      <td>5.0</td>\n",
              "      <td>5.0</td>\n",
              "      <td>0.0</td>\n",
              "      <td>0</td>\n",
              "      <td>0</td>\n",
              "      <td>0</td>\n",
              "      <td>35</td>\n",
              "      <td>403.0</td>\n",
              "      <td>438.0</td>\n",
              "      <td>Guwahati</td>\n",
              "      <td>2018+AC0-19</td>\n",
              "      <td>HVP</td>\n",
              "      <td>East</td>\n",
              "      <td>GVT</td>\n",
              "      <td>N.EAST</td>\n",
              "    </tr>\n",
              "    <tr>\n",
              "      <th>3</th>\n",
              "      <td>C025506652720553361M</td>\n",
              "      <td>Assam</td>\n",
              "      <td>06/08/18</td>\n",
              "      <td>600X600 PGVT Hamley Grey 4 Pcs Prem</td>\n",
              "      <td>600X600</td>\n",
              "      <td>Floor</td>\n",
              "      <td>Vitrified</td>\n",
              "      <td>162489.6</td>\n",
              "      <td>S0660551+AF8-1</td>\n",
              "      <td>M001</td>\n",
              "      <td>1.0</td>\n",
              "      <td>C101103004812120</td>\n",
              "      <td>Guwahati</td>\n",
              "      <td>DEALER</td>\n",
              "      <td>Retail</td>\n",
              "      <td>1380</td>\n",
              "      <td>958.33</td>\n",
              "      <td>25.0</td>\n",
              "      <td>5.0</td>\n",
              "      <td>5.0</td>\n",
              "      <td>0.0</td>\n",
              "      <td>0</td>\n",
              "      <td>0</td>\n",
              "      <td>0</td>\n",
              "      <td>35</td>\n",
              "      <td>403.0</td>\n",
              "      <td>438.0</td>\n",
              "      <td>Guwahati</td>\n",
              "      <td>2018+AC0-19</td>\n",
              "      <td>HVP</td>\n",
              "      <td>East</td>\n",
              "      <td>GVT</td>\n",
              "      <td>N.EAST</td>\n",
              "    </tr>\n",
              "    <tr>\n",
              "      <th>4</th>\n",
              "      <td>C025506661491859361M</td>\n",
              "      <td>Bihar</td>\n",
              "      <td>06/08/18</td>\n",
              "      <td>600X600 PGVT Onyx Verde 4 Pcs Prem</td>\n",
              "      <td>600X600</td>\n",
              "      <td>Floor</td>\n",
              "      <td>Vitrified</td>\n",
              "      <td>97493.76</td>\n",
              "      <td>S0660551+AF8-1</td>\n",
              "      <td>M001</td>\n",
              "      <td>1.0</td>\n",
              "      <td>C101104007609151</td>\n",
              "      <td>Samastipur</td>\n",
              "      <td>DEALER</td>\n",
              "      <td>Retail</td>\n",
              "      <td>1190</td>\n",
              "      <td>826.39</td>\n",
              "      <td>25.0</td>\n",
              "      <td>5.0</td>\n",
              "      <td>5.0</td>\n",
              "      <td>0.0</td>\n",
              "      <td>0</td>\n",
              "      <td>0</td>\n",
              "      <td>0</td>\n",
              "      <td>35</td>\n",
              "      <td>403.0</td>\n",
              "      <td>438.0</td>\n",
              "      <td>Samastipur</td>\n",
              "      <td>2018+AC0-19</td>\n",
              "      <td>HVP</td>\n",
              "      <td>East</td>\n",
              "      <td>GVT</td>\n",
              "      <td>PATNA</td>\n",
              "    </tr>\n",
              "  </tbody>\n",
              "</table>\n",
              "</div>"
            ],
            "text/plain": [
              "              Item Code  State      Date  ... Review zone Category 2  Re territory\n",
              "0  C025506652701860361M  Assam  06/08/18  ...        East        GVT        N.EAST\n",
              "1  C025506661491859361M  Assam  06/08/18  ...        East        GVT        N.EAST\n",
              "2  C025506665870335361M  Assam  06/08/18  ...        East        GVT        N.EAST\n",
              "3  C025506652720553361M  Assam  06/08/18  ...        East        GVT        N.EAST\n",
              "4  C025506661491859361M  Bihar  06/08/18  ...        East        GVT         PATNA\n",
              "\n",
              "[5 rows x 33 columns]"
            ]
          },
          "metadata": {},
          "execution_count": 246
        }
      ]
    },
    {
      "cell_type": "markdown",
      "metadata": {
        "id": "9jhawS6CTV1u"
      },
      "source": [
        "**Describing Columns and there DataType**"
      ]
    },
    {
      "cell_type": "code",
      "metadata": {
        "colab": {
          "base_uri": "https://localhost:8080/"
        },
        "id": "Lq-cN9YKZeoz",
        "outputId": "9504e8f5-89e5-42bb-dda5-e0d72b756a71"
      },
      "source": [
        "df.info()"
      ],
      "execution_count": 247,
      "outputs": [
        {
          "output_type": "stream",
          "name": "stdout",
          "text": [
            "<class 'pandas.core.frame.DataFrame'>\n",
            "RangeIndex: 17499 entries, 0 to 17498\n",
            "Data columns (total 33 columns):\n",
            " #   Column               Non-Null Count  Dtype  \n",
            "---  ------               --------------  -----  \n",
            " 0   Item Code            17498 non-null  object \n",
            " 1   State                17498 non-null  object \n",
            " 2   Date                 17498 non-null  object \n",
            " 3   Item Description     17499 non-null  object \n",
            " 4   ERP Size             17498 non-null  object \n",
            " 5   Wall/Floor           17498 non-null  object \n",
            " 6   Sticker Body Type    17498 non-null  object \n",
            " 7   Value                17498 non-null  object \n",
            " 8   Item Classification  17498 non-null  object \n",
            " 9   Item Cat. Code       17498 non-null  object \n",
            " 10  Quality Code         17498 non-null  float64\n",
            " 11  Customer code        17498 non-null  object \n",
            " 12  Customer type        17498 non-null  object \n",
            " 13  Sales Type           17498 non-null  object \n",
            " 14  Sales Type.1         17498 non-null  object \n",
            " 15  MRP / box            17498 non-null  object \n",
            " 16  MRP / sqm            17498 non-null  float64\n",
            " 17  AD1/Sqm              17498 non-null  float64\n",
            " 18  AD2/Sqm              17498 non-null  float64\n",
            " 19  AD3/Sqm              17498 non-null  float64\n",
            " 20  AD4/Sqm              17458 non-null  float64\n",
            " 21  AD5/Sqm              17458 non-null  object \n",
            " 22  AD6/Sqm              17458 non-null  object \n",
            " 23  AD7/Sqm              17458 non-null  object \n",
            " 24  Total AD /sqm        17498 non-null  object \n",
            " 25  Billing rate/sqm     17484 non-null  float64\n",
            " 26  Buyer Rate/sqm       17484 non-null  float64\n",
            " 27  Ship to city         17442 non-null  object \n",
            " 28  FY                   17498 non-null  object \n",
            " 29  Category             17498 non-null  object \n",
            " 30  Review zone          17498 non-null  object \n",
            " 31  Category 2           17498 non-null  object \n",
            " 32   Re territory        17498 non-null  object \n",
            "dtypes: float64(8), object(25)\n",
            "memory usage: 4.4+ MB\n"
          ]
        }
      ]
    },
    {
      "cell_type": "code",
      "metadata": {
        "colab": {
          "base_uri": "https://localhost:8080/",
          "height": 297
        },
        "id": "WZAYxfOb-Gny",
        "outputId": "30692045-54d9-4060-ef8a-c0a7d593f479"
      },
      "source": [
        "df.describe()\n"
      ],
      "execution_count": 248,
      "outputs": [
        {
          "output_type": "execute_result",
          "data": {
            "text/html": [
              "<div>\n",
              "<style scoped>\n",
              "    .dataframe tbody tr th:only-of-type {\n",
              "        vertical-align: middle;\n",
              "    }\n",
              "\n",
              "    .dataframe tbody tr th {\n",
              "        vertical-align: top;\n",
              "    }\n",
              "\n",
              "    .dataframe thead th {\n",
              "        text-align: right;\n",
              "    }\n",
              "</style>\n",
              "<table border=\"1\" class=\"dataframe\">\n",
              "  <thead>\n",
              "    <tr style=\"text-align: right;\">\n",
              "      <th></th>\n",
              "      <th>Quality Code</th>\n",
              "      <th>MRP / sqm</th>\n",
              "      <th>AD1/Sqm</th>\n",
              "      <th>AD2/Sqm</th>\n",
              "      <th>AD3/Sqm</th>\n",
              "      <th>AD4/Sqm</th>\n",
              "      <th>Billing rate/sqm</th>\n",
              "      <th>Buyer Rate/sqm</th>\n",
              "    </tr>\n",
              "  </thead>\n",
              "  <tbody>\n",
              "    <tr>\n",
              "      <th>count</th>\n",
              "      <td>17498.0</td>\n",
              "      <td>17498.000000</td>\n",
              "      <td>17498.000000</td>\n",
              "      <td>17498.000000</td>\n",
              "      <td>17498.000000</td>\n",
              "      <td>17458.000000</td>\n",
              "      <td>17484.000000</td>\n",
              "      <td>17484.000000</td>\n",
              "    </tr>\n",
              "    <tr>\n",
              "      <th>mean</th>\n",
              "      <td>1.0</td>\n",
              "      <td>587.984368</td>\n",
              "      <td>25.243618</td>\n",
              "      <td>4.355258</td>\n",
              "      <td>3.922963</td>\n",
              "      <td>3.180331</td>\n",
              "      <td>304.003228</td>\n",
              "      <td>339.317891</td>\n",
              "    </tr>\n",
              "    <tr>\n",
              "      <th>std</th>\n",
              "      <td>0.0</td>\n",
              "      <td>243.771318</td>\n",
              "      <td>18.909086</td>\n",
              "      <td>1.855866</td>\n",
              "      <td>2.049484</td>\n",
              "      <td>27.207916</td>\n",
              "      <td>118.982654</td>\n",
              "      <td>128.117988</td>\n",
              "    </tr>\n",
              "    <tr>\n",
              "      <th>min</th>\n",
              "      <td>1.0</td>\n",
              "      <td>358.020000</td>\n",
              "      <td>0.000000</td>\n",
              "      <td>0.000000</td>\n",
              "      <td>0.000000</td>\n",
              "      <td>0.000000</td>\n",
              "      <td>35.000000</td>\n",
              "      <td>0.000000</td>\n",
              "    </tr>\n",
              "    <tr>\n",
              "      <th>25%</th>\n",
              "      <td>1.0</td>\n",
              "      <td>469.140000</td>\n",
              "      <td>25.000000</td>\n",
              "      <td>5.000000</td>\n",
              "      <td>5.000000</td>\n",
              "      <td>0.000000</td>\n",
              "      <td>238.000000</td>\n",
              "      <td>273.000000</td>\n",
              "    </tr>\n",
              "    <tr>\n",
              "      <th>50%</th>\n",
              "      <td>1.0</td>\n",
              "      <td>546.300000</td>\n",
              "      <td>25.000000</td>\n",
              "      <td>5.000000</td>\n",
              "      <td>5.000000</td>\n",
              "      <td>0.000000</td>\n",
              "      <td>261.000000</td>\n",
              "      <td>296.000000</td>\n",
              "    </tr>\n",
              "    <tr>\n",
              "      <th>75%</th>\n",
              "      <td>1.0</td>\n",
              "      <td>611.110000</td>\n",
              "      <td>25.000000</td>\n",
              "      <td>5.000000</td>\n",
              "      <td>5.000000</td>\n",
              "      <td>0.000000</td>\n",
              "      <td>325.000000</td>\n",
              "      <td>360.000000</td>\n",
              "    </tr>\n",
              "    <tr>\n",
              "      <th>max</th>\n",
              "      <td>1.0</td>\n",
              "      <td>4138.890000</td>\n",
              "      <td>583.330000</td>\n",
              "      <td>25.000000</td>\n",
              "      <td>5.000000</td>\n",
              "      <td>877.500000</td>\n",
              "      <td>2165.000000</td>\n",
              "      <td>2200.000000</td>\n",
              "    </tr>\n",
              "  </tbody>\n",
              "</table>\n",
              "</div>"
            ],
            "text/plain": [
              "       Quality Code     MRP / sqm  ...  Billing rate/sqm  Buyer Rate/sqm\n",
              "count       17498.0  17498.000000  ...      17484.000000    17484.000000\n",
              "mean            1.0    587.984368  ...        304.003228      339.317891\n",
              "std             0.0    243.771318  ...        118.982654      128.117988\n",
              "min             1.0    358.020000  ...         35.000000        0.000000\n",
              "25%             1.0    469.140000  ...        238.000000      273.000000\n",
              "50%             1.0    546.300000  ...        261.000000      296.000000\n",
              "75%             1.0    611.110000  ...        325.000000      360.000000\n",
              "max             1.0   4138.890000  ...       2165.000000     2200.000000\n",
              "\n",
              "[8 rows x 8 columns]"
            ]
          },
          "metadata": {},
          "execution_count": 248
        }
      ]
    },
    {
      "cell_type": "markdown",
      "metadata": {
        "id": "RwAPCBcSUR27"
      },
      "source": [
        "**Exploratory Data Analysis And Preprocessing**\n"
      ]
    },
    {
      "cell_type": "markdown",
      "metadata": {
        "id": "ECyRA1EhTgGy"
      },
      "source": [
        "**Converting Object to Float**"
      ]
    },
    {
      "cell_type": "code",
      "metadata": {
        "id": "vyQ6VYK5812h"
      },
      "source": [
        "\n",
        "df['AD5/Sqm'] = pd.to_numeric(df['AD5/Sqm'],errors = 'coerce')\n",
        "df['AD6/Sqm'] = pd.to_numeric(df['AD5/Sqm'],errors = 'coerce')\n",
        "df['AD7/Sqm'] = pd.to_numeric(df['AD5/Sqm'],errors = 'coerce')\n",
        "df['Total AD /sqm'] = pd.to_numeric(df['Total AD /sqm'],errors = 'coerce')"
      ],
      "execution_count": 249,
      "outputs": []
    },
    {
      "cell_type": "code",
      "metadata": {
        "id": "JjW7Z2I1RXie"
      },
      "source": [
        "#converting date time object\n",
        "df[\"Date\"] = pd.to_datetime(df[\"Date\"])\n",
        "df[\"month\"] = df[\"Date\"].dt.month\n",
        "df.drop([\"Date\"], axis = 1, inplace = True)"
      ],
      "execution_count": 253,
      "outputs": []
    },
    {
      "cell_type": "code",
      "metadata": {
        "colab": {
          "base_uri": "https://localhost:8080/"
        },
        "id": "VZlIeNS49YuW",
        "outputId": "0ef0d3c8-e189-4203-9202-56f7f22a46e0"
      },
      "source": [
        "df.info()"
      ],
      "execution_count": 255,
      "outputs": [
        {
          "output_type": "stream",
          "name": "stdout",
          "text": [
            "<class 'pandas.core.frame.DataFrame'>\n",
            "RangeIndex: 17499 entries, 0 to 17498\n",
            "Data columns (total 33 columns):\n",
            " #   Column               Non-Null Count  Dtype  \n",
            "---  ------               --------------  -----  \n",
            " 0   Item Code            17498 non-null  object \n",
            " 1   State                17498 non-null  object \n",
            " 2   Item Description     17499 non-null  object \n",
            " 3   ERP Size             17498 non-null  object \n",
            " 4   Wall/Floor           17498 non-null  object \n",
            " 5   Sticker Body Type    17498 non-null  object \n",
            " 6   Value                17498 non-null  object \n",
            " 7   Item Classification  17498 non-null  object \n",
            " 8   Item Cat. Code       17498 non-null  object \n",
            " 9   Quality Code         17498 non-null  float64\n",
            " 10  Customer code        17498 non-null  object \n",
            " 11  Customer type        17498 non-null  object \n",
            " 12  Sales Type           17498 non-null  object \n",
            " 13  Sales Type.1         17498 non-null  object \n",
            " 14  MRP / box            17498 non-null  object \n",
            " 15  MRP / sqm            17498 non-null  float64\n",
            " 16  AD1/Sqm              17498 non-null  float64\n",
            " 17  AD2/Sqm              17498 non-null  float64\n",
            " 18  AD3/Sqm              17498 non-null  float64\n",
            " 19  AD4/Sqm              17458 non-null  float64\n",
            " 20  AD5/Sqm              17445 non-null  float64\n",
            " 21  AD6/Sqm              17445 non-null  float64\n",
            " 22  AD7/Sqm              17445 non-null  float64\n",
            " 23  Total AD /sqm        17484 non-null  float64\n",
            " 24  Billing rate/sqm     17484 non-null  float64\n",
            " 25  Buyer Rate/sqm       17484 non-null  float64\n",
            " 26  Ship to city         17442 non-null  object \n",
            " 27  FY                   17498 non-null  object \n",
            " 28  Category             17498 non-null  object \n",
            " 29  Review zone          17498 non-null  object \n",
            " 30  Category 2           17498 non-null  object \n",
            " 31   Re territory        17498 non-null  object \n",
            " 32  month                17498 non-null  float64\n",
            "dtypes: float64(13), object(20)\n",
            "memory usage: 4.4+ MB\n"
          ]
        }
      ]
    },
    {
      "cell_type": "markdown",
      "metadata": {
        "id": "vfOntS0nU4vE"
      },
      "source": [
        "**Dropping Missing Value**"
      ]
    },
    {
      "cell_type": "code",
      "metadata": {
        "colab": {
          "base_uri": "https://localhost:8080/"
        },
        "id": "pBpz-QvJ-Cv4",
        "outputId": "70ddde93-a1c2-4e54-b059-9e79570e3a5a"
      },
      "source": [
        " df.isnull().sum()"
      ],
      "execution_count": 257,
      "outputs": [
        {
          "output_type": "execute_result",
          "data": {
            "text/plain": [
              "Item Code               1\n",
              "State                   1\n",
              "Item Description        0\n",
              "ERP Size                1\n",
              "Wall/Floor              1\n",
              "Sticker Body Type       1\n",
              "Value                   1\n",
              "Item Classification     1\n",
              "Item Cat. Code          1\n",
              "Quality Code            1\n",
              "Customer code           1\n",
              "Customer type           1\n",
              "Sales Type              1\n",
              "Sales Type.1            1\n",
              "MRP / box               1\n",
              "MRP / sqm               1\n",
              "AD1/Sqm                 1\n",
              "AD2/Sqm                 1\n",
              "AD3/Sqm                 1\n",
              "AD4/Sqm                41\n",
              "AD5/Sqm                54\n",
              "AD6/Sqm                54\n",
              "AD7/Sqm                54\n",
              "Total AD /sqm          15\n",
              "Billing rate/sqm       15\n",
              "Buyer Rate/sqm         15\n",
              "Ship to city           57\n",
              "FY                      1\n",
              "Category                1\n",
              "Review zone             1\n",
              "Category 2              1\n",
              " Re territory           1\n",
              "month                   1\n",
              "dtype: int64"
            ]
          },
          "metadata": {},
          "execution_count": 257
        }
      ]
    },
    {
      "cell_type": "markdown",
      "metadata": {
        "id": "BHnRVnGpVBQ9"
      },
      "source": [
        "**Checking the results**"
      ]
    },
    {
      "cell_type": "code",
      "metadata": {
        "id": "1-Cy0R7Joqxn"
      },
      "source": [
        "df.dropna(inplace=True)"
      ],
      "execution_count": 258,
      "outputs": []
    },
    {
      "cell_type": "code",
      "metadata": {
        "colab": {
          "base_uri": "https://localhost:8080/"
        },
        "id": "CCOSslktkOvk",
        "outputId": "d297bd53-d11a-480d-c66d-c305fcf63316"
      },
      "source": [
        " df.isnull().sum()\n",
        " "
      ],
      "execution_count": 259,
      "outputs": [
        {
          "output_type": "execute_result",
          "data": {
            "text/plain": [
              "Item Code              0\n",
              "State                  0\n",
              "Item Description       0\n",
              "ERP Size               0\n",
              "Wall/Floor             0\n",
              "Sticker Body Type      0\n",
              "Value                  0\n",
              "Item Classification    0\n",
              "Item Cat. Code         0\n",
              "Quality Code           0\n",
              "Customer code          0\n",
              "Customer type          0\n",
              "Sales Type             0\n",
              "Sales Type.1           0\n",
              "MRP / box              0\n",
              "MRP / sqm              0\n",
              "AD1/Sqm                0\n",
              "AD2/Sqm                0\n",
              "AD3/Sqm                0\n",
              "AD4/Sqm                0\n",
              "AD5/Sqm                0\n",
              "AD6/Sqm                0\n",
              "AD7/Sqm                0\n",
              "Total AD /sqm          0\n",
              "Billing rate/sqm       0\n",
              "Buyer Rate/sqm         0\n",
              "Ship to city           0\n",
              "FY                     0\n",
              "Category               0\n",
              "Review zone            0\n",
              "Category 2             0\n",
              " Re territory          0\n",
              "month                  0\n",
              "dtype: int64"
            ]
          },
          "metadata": {},
          "execution_count": 259
        }
      ]
    },
    {
      "cell_type": "markdown",
      "metadata": {
        "id": "SS588JeoVF4R"
      },
      "source": [
        "**Seprating Categorical and Numerical Variables**"
      ]
    },
    {
      "cell_type": "code",
      "metadata": {
        "id": "NXGShdHFSV1Q"
      },
      "source": [
        "df_categorical=[]\n",
        "df_numerical=[]\n",
        "\n",
        "for x in df:\n",
        "    if df[x].dtypes==\"object\":\n",
        "        df_categorical.append(x)\n",
        "    elif df[x].dtypes==\"int64\" or df[x].dtypes==\"float64\":\n",
        "        df_numerical.append(x)"
      ],
      "execution_count": 260,
      "outputs": []
    },
    {
      "cell_type": "code",
      "metadata": {
        "colab": {
          "base_uri": "https://localhost:8080/"
        },
        "id": "aqmQDWylSWCT",
        "outputId": "fed18f59-496a-427d-9a99-48176adef3f6"
      },
      "source": [
        "print(df_categorical)\n",
        "print()\n",
        "print(df_numerical)\n"
      ],
      "execution_count": 261,
      "outputs": [
        {
          "output_type": "stream",
          "name": "stdout",
          "text": [
            "['Item Code', 'State', 'Item Description', 'ERP Size', 'Wall/Floor ', 'Sticker Body Type', 'Value', 'Item Classification', 'Item Cat. Code', 'Customer code', 'Customer type', 'Sales Type', 'Sales Type.1', 'MRP / box ', 'Ship to city', 'FY', 'Category', 'Review zone', 'Category 2', ' Re territory']\n",
            "\n",
            "['Quality Code', 'MRP / sqm', 'AD1/Sqm', 'AD2/Sqm', 'AD3/Sqm', 'AD4/Sqm', 'AD5/Sqm', 'AD6/Sqm', 'AD7/Sqm', 'Total AD /sqm', 'Billing rate/sqm', 'Buyer Rate/sqm', 'month']\n"
          ]
        }
      ]
    },
    {
      "cell_type": "markdown",
      "metadata": {
        "id": "RlXk7DlASiz0"
      },
      "source": [
        "**Distribution plot of numeric variables**"
      ]
    },
    {
      "cell_type": "code",
      "metadata": {
        "id": "NoAARHfRSja7"
      },
      "source": [
        "for i in df_numerical:\n",
        "    sns.distplot(df[i])\n",
        "    plt.show()"
      ],
      "execution_count": null,
      "outputs": []
    },
    {
      "cell_type": "markdown",
      "metadata": {
        "id": "BRpo1ffxVcj9"
      },
      "source": [
        "**Visualisation using Box Plot**"
      ]
    },
    {
      "cell_type": "code",
      "metadata": {
        "colab": {
          "base_uri": "https://localhost:8080/",
          "height": 500
        },
        "id": "Z5SPdQRESjkx",
        "outputId": "9741552b-0917-4a24-d004-6862fa8b36e6"
      },
      "source": [
        "df.plot(kind='box', subplots=True, layout=(7,5), sharex=False, sharey=False, figsize=(20,20) )\n",
        "plt.show()"
      ],
      "execution_count": 263,
      "outputs": [
        {
          "output_type": "display_data",
          "data": {
            "image/png": "[encoded data removed]",
            "text/plain": [
              "<Figure size 1440x1440 with 35 Axes>"
            ]
          },
          "metadata": {
            "needs_background": "light"
          }
        }
      ]
    },
    {
      "cell_type": "markdown",
      "metadata": {
        "id": "AlNLpbi-Z9gX"
      },
      "source": [
        "**Dropping unnecessary column**"
      ]
    },
    {
      "cell_type": "code",
      "metadata": {
        "id": "piDI4vfmov96"
      },
      "source": [
        "df.drop([\"Item Classification\"], axis = 1, inplace = True)\n",
        "df.drop([\"Customer code\"], axis = 1, inplace = True)\n"
      ],
      "execution_count": null,
      "outputs": []
    },
    {
      "cell_type": "code",
      "metadata": {
        "id": "NDBuYVX8npX6"
      },
      "source": [
        "df.drop([\"FY\"], axis = 1, inplace = True)\n"
      ],
      "execution_count": 281,
      "outputs": []
    },
    {
      "cell_type": "markdown",
      "metadata": {
        "id": "oANsEr4EXP9X"
      },
      "source": [
        "**Convert categorical variables to numeric**"
      ]
    },
    {
      "cell_type": "code",
      "metadata": {
        "colab": {
          "base_uri": "https://localhost:8080/"
        },
        "id": "3uXgI1ffp0zR",
        "outputId": "95d4c751-c997-4bfe-dd82-3319a52739fe"
      },
      "source": [
        "colname=[]\n",
        "for x in df.columns:\n",
        "    if df[x].dtype=='object':\n",
        "        colname.append(x)\n",
        "colname"
      ],
      "execution_count": 282,
      "outputs": [
        {
          "output_type": "execute_result",
          "data": {
            "text/plain": [
              "['Value',\n",
              " 'Item Cat. Code',\n",
              " 'Customer type',\n",
              " 'Sales Type',\n",
              " 'Sales Type.1',\n",
              " 'MRP / box ',\n",
              " 'Ship to city',\n",
              " 'Category',\n",
              " 'Review zone',\n",
              " 'Category 2',\n",
              " ' Re territory']"
            ]
          },
          "metadata": {},
          "execution_count": 282
        }
      ]
    },
    {
      "cell_type": "code",
      "metadata": {
        "colab": {
          "base_uri": "https://localhost:8080/"
        },
        "id": "C3rVu-i8rla6",
        "outputId": "13aff4a5-c40f-4db3-c206-827e30c7f258"
      },
      "source": [
        "df[\"Wall/Floor \"].unique()"
      ],
      "execution_count": 274,
      "outputs": [
        {
          "output_type": "execute_result",
          "data": {
            "text/plain": [
              "array([0, 1])"
            ]
          },
          "metadata": {},
          "execution_count": 274
        }
      ]
    },
    {
      "cell_type": "code",
      "metadata": {
        "colab": {
          "base_uri": "https://localhost:8080/"
        },
        "id": "m5bjXBocAUiv",
        "outputId": "6fb5c05e-fc9e-4bc9-fcc7-ff85fb19b4de"
      },
      "source": [
        "objList = df.select_dtypes(include = \"object\").columns\n",
        "print (objList)"
      ],
      "execution_count": 286,
      "outputs": [
        {
          "output_type": "stream",
          "name": "stdout",
          "text": [
            "Index(['Value', 'Item Cat. Code', 'Customer type', 'Sales Type',\n",
            "       'Sales Type.1', 'MRP / box ', 'Ship to city', 'Category', 'Review zone',\n",
            "       'Category 2', ' Re territory'],\n",
            "      dtype='object')\n"
          ]
        }
      ]
    },
    {
      "cell_type": "code",
      "metadata": {
        "colab": {
          "base_uri": "https://localhost:8080/"
        },
        "id": "e7TrPafDAUWk",
        "outputId": "6750b73d-f65a-4364-b808-067cea41435c"
      },
      "source": [
        "#Label Encoding for object to numeric conversion\n",
        "from sklearn.preprocessing import LabelEncoder\n",
        "le = LabelEncoder()\n",
        "\n",
        "for feat in objList:\n",
        "    df[feat] = le.fit_transform(df[feat].astype(str))\n",
        "\n",
        "print (df.info())"
      ],
      "execution_count": 287,
      "outputs": [
        {
          "output_type": "stream",
          "name": "stdout",
          "text": [
            "<class 'pandas.core.frame.DataFrame'>\n",
            "Int64Index: 17429 entries, 0 to 17497\n",
            "Data columns (total 30 columns):\n",
            " #   Column             Non-Null Count  Dtype  \n",
            "---  ------             --------------  -----  \n",
            " 0   Item Code          17429 non-null  int64  \n",
            " 1   State              17429 non-null  int64  \n",
            " 2   Item Description   17429 non-null  int64  \n",
            " 3   ERP Size           17429 non-null  int64  \n",
            " 4   Wall/Floor         17429 non-null  int64  \n",
            " 5   Sticker Body Type  17429 non-null  int64  \n",
            " 6   Value              17429 non-null  int64  \n",
            " 7   Item Cat. Code     17429 non-null  int64  \n",
            " 8   Quality Code       17429 non-null  float64\n",
            " 9   Customer type      17429 non-null  int64  \n",
            " 10  Sales Type         17429 non-null  int64  \n",
            " 11  Sales Type.1       17429 non-null  int64  \n",
            " 12  MRP / box          17429 non-null  int64  \n",
            " 13  MRP / sqm          17429 non-null  float64\n",
            " 14  AD1/Sqm            17429 non-null  float64\n",
            " 15  AD2/Sqm            17429 non-null  float64\n",
            " 16  AD3/Sqm            17429 non-null  float64\n",
            " 17  AD4/Sqm            17429 non-null  float64\n",
            " 18  AD5/Sqm            17429 non-null  float64\n",
            " 19  AD6/Sqm            17429 non-null  float64\n",
            " 20  AD7/Sqm            17429 non-null  float64\n",
            " 21  Total AD /sqm      17429 non-null  float64\n",
            " 22  Billing rate/sqm   17429 non-null  float64\n",
            " 23  Buyer Rate/sqm     17429 non-null  float64\n",
            " 24  Ship to city       17429 non-null  int64  \n",
            " 25  Category           17429 non-null  int64  \n",
            " 26  Review zone        17429 non-null  int64  \n",
            " 27  Category 2         17429 non-null  int64  \n",
            " 28   Re territory      17429 non-null  int64  \n",
            " 29  month              17429 non-null  float64\n",
            "dtypes: float64(13), int64(17)\n",
            "memory usage: 4.1 MB\n",
            "None\n"
          ]
        }
      ]
    },
    {
      "cell_type": "code",
      "metadata": {
        "colab": {
          "base_uri": "https://localhost:8080/",
          "height": 258
        },
        "id": "8OlHt3_urwzu",
        "outputId": "1e34f0c3-89ae-42b6-a422-70102852ae34"
      },
      "source": [
        "#splitting in train and test\n",
        "df.head()"
      ],
      "execution_count": 288,
      "outputs": [
        {
          "output_type": "execute_result",
          "data": {
            "text/html": [
              "<div>\n",
              "<style scoped>\n",
              "    .dataframe tbody tr th:only-of-type {\n",
              "        vertical-align: middle;\n",
              "    }\n",
              "\n",
              "    .dataframe tbody tr th {\n",
              "        vertical-align: top;\n",
              "    }\n",
              "\n",
              "    .dataframe thead th {\n",
              "        text-align: right;\n",
              "    }\n",
              "</style>\n",
              "<table border=\"1\" class=\"dataframe\">\n",
              "  <thead>\n",
              "    <tr style=\"text-align: right;\">\n",
              "      <th></th>\n",
              "      <th>Item Code</th>\n",
              "      <th>State</th>\n",
              "      <th>Item Description</th>\n",
              "      <th>ERP Size</th>\n",
              "      <th>Wall/Floor</th>\n",
              "      <th>Sticker Body Type</th>\n",
              "      <th>Value</th>\n",
              "      <th>Item Cat. Code</th>\n",
              "      <th>Quality Code</th>\n",
              "      <th>Customer type</th>\n",
              "      <th>Sales Type</th>\n",
              "      <th>Sales Type.1</th>\n",
              "      <th>MRP / box</th>\n",
              "      <th>MRP / sqm</th>\n",
              "      <th>AD1/Sqm</th>\n",
              "      <th>AD2/Sqm</th>\n",
              "      <th>AD3/Sqm</th>\n",
              "      <th>AD4/Sqm</th>\n",
              "      <th>AD5/Sqm</th>\n",
              "      <th>AD6/Sqm</th>\n",
              "      <th>AD7/Sqm</th>\n",
              "      <th>Total AD /sqm</th>\n",
              "      <th>Billing rate/sqm</th>\n",
              "      <th>Buyer Rate/sqm</th>\n",
              "      <th>Ship to city</th>\n",
              "      <th>Category</th>\n",
              "      <th>Review zone</th>\n",
              "      <th>Category 2</th>\n",
              "      <th>Re territory</th>\n",
              "      <th>month</th>\n",
              "    </tr>\n",
              "  </thead>\n",
              "  <tbody>\n",
              "    <tr>\n",
              "      <th>0</th>\n",
              "      <td>391</td>\n",
              "      <td>3</td>\n",
              "      <td>438</td>\n",
              "      <td>7</td>\n",
              "      <td>0</td>\n",
              "      <td>1</td>\n",
              "      <td>645</td>\n",
              "      <td>0</td>\n",
              "      <td>1.0</td>\n",
              "      <td>102</td>\n",
              "      <td>1</td>\n",
              "      <td>3</td>\n",
              "      <td>49</td>\n",
              "      <td>958.33</td>\n",
              "      <td>25.0</td>\n",
              "      <td>5.0</td>\n",
              "      <td>5.0</td>\n",
              "      <td>0.0</td>\n",
              "      <td>0.0</td>\n",
              "      <td>0.0</td>\n",
              "      <td>0.0</td>\n",
              "      <td>35.0</td>\n",
              "      <td>403.0</td>\n",
              "      <td>438.0</td>\n",
              "      <td>110</td>\n",
              "      <td>1</td>\n",
              "      <td>1</td>\n",
              "      <td>2</td>\n",
              "      <td>22</td>\n",
              "      <td>6.0</td>\n",
              "    </tr>\n",
              "    <tr>\n",
              "      <th>1</th>\n",
              "      <td>394</td>\n",
              "      <td>3</td>\n",
              "      <td>438</td>\n",
              "      <td>7</td>\n",
              "      <td>0</td>\n",
              "      <td>1</td>\n",
              "      <td>645</td>\n",
              "      <td>0</td>\n",
              "      <td>1.0</td>\n",
              "      <td>102</td>\n",
              "      <td>1</td>\n",
              "      <td>3</td>\n",
              "      <td>49</td>\n",
              "      <td>958.33</td>\n",
              "      <td>25.0</td>\n",
              "      <td>5.0</td>\n",
              "      <td>5.0</td>\n",
              "      <td>0.0</td>\n",
              "      <td>0.0</td>\n",
              "      <td>0.0</td>\n",
              "      <td>0.0</td>\n",
              "      <td>35.0</td>\n",
              "      <td>403.0</td>\n",
              "      <td>438.0</td>\n",
              "      <td>110</td>\n",
              "      <td>1</td>\n",
              "      <td>1</td>\n",
              "      <td>2</td>\n",
              "      <td>22</td>\n",
              "      <td>6.0</td>\n",
              "    </tr>\n",
              "    <tr>\n",
              "      <th>2</th>\n",
              "      <td>396</td>\n",
              "      <td>3</td>\n",
              "      <td>439</td>\n",
              "      <td>7</td>\n",
              "      <td>0</td>\n",
              "      <td>1</td>\n",
              "      <td>645</td>\n",
              "      <td>0</td>\n",
              "      <td>1.0</td>\n",
              "      <td>102</td>\n",
              "      <td>1</td>\n",
              "      <td>3</td>\n",
              "      <td>49</td>\n",
              "      <td>958.33</td>\n",
              "      <td>25.0</td>\n",
              "      <td>5.0</td>\n",
              "      <td>5.0</td>\n",
              "      <td>0.0</td>\n",
              "      <td>0.0</td>\n",
              "      <td>0.0</td>\n",
              "      <td>0.0</td>\n",
              "      <td>35.0</td>\n",
              "      <td>403.0</td>\n",
              "      <td>438.0</td>\n",
              "      <td>110</td>\n",
              "      <td>1</td>\n",
              "      <td>1</td>\n",
              "      <td>2</td>\n",
              "      <td>22</td>\n",
              "      <td>6.0</td>\n",
              "    </tr>\n",
              "    <tr>\n",
              "      <th>3</th>\n",
              "      <td>392</td>\n",
              "      <td>3</td>\n",
              "      <td>447</td>\n",
              "      <td>7</td>\n",
              "      <td>0</td>\n",
              "      <td>1</td>\n",
              "      <td>564</td>\n",
              "      <td>0</td>\n",
              "      <td>1.0</td>\n",
              "      <td>102</td>\n",
              "      <td>1</td>\n",
              "      <td>3</td>\n",
              "      <td>49</td>\n",
              "      <td>958.33</td>\n",
              "      <td>25.0</td>\n",
              "      <td>5.0</td>\n",
              "      <td>5.0</td>\n",
              "      <td>0.0</td>\n",
              "      <td>0.0</td>\n",
              "      <td>0.0</td>\n",
              "      <td>0.0</td>\n",
              "      <td>35.0</td>\n",
              "      <td>403.0</td>\n",
              "      <td>438.0</td>\n",
              "      <td>110</td>\n",
              "      <td>1</td>\n",
              "      <td>1</td>\n",
              "      <td>2</td>\n",
              "      <td>22</td>\n",
              "      <td>6.0</td>\n",
              "    </tr>\n",
              "    <tr>\n",
              "      <th>4</th>\n",
              "      <td>394</td>\n",
              "      <td>4</td>\n",
              "      <td>453</td>\n",
              "      <td>7</td>\n",
              "      <td>0</td>\n",
              "      <td>1</td>\n",
              "      <td>2629</td>\n",
              "      <td>0</td>\n",
              "      <td>1.0</td>\n",
              "      <td>250</td>\n",
              "      <td>1</td>\n",
              "      <td>3</td>\n",
              "      <td>29</td>\n",
              "      <td>826.39</td>\n",
              "      <td>25.0</td>\n",
              "      <td>5.0</td>\n",
              "      <td>5.0</td>\n",
              "      <td>0.0</td>\n",
              "      <td>0.0</td>\n",
              "      <td>0.0</td>\n",
              "      <td>0.0</td>\n",
              "      <td>35.0</td>\n",
              "      <td>403.0</td>\n",
              "      <td>438.0</td>\n",
              "      <td>267</td>\n",
              "      <td>1</td>\n",
              "      <td>1</td>\n",
              "      <td>2</td>\n",
              "      <td>26</td>\n",
              "      <td>6.0</td>\n",
              "    </tr>\n",
              "  </tbody>\n",
              "</table>\n",
              "</div>"
            ],
            "text/plain": [
              "   Item Code  State  Item Description  ...  Category 2   Re territory  month\n",
              "0        391      3               438  ...           2             22    6.0\n",
              "1        394      3               438  ...           2             22    6.0\n",
              "2        396      3               439  ...           2             22    6.0\n",
              "3        392      3               447  ...           2             22    6.0\n",
              "4        394      4               453  ...           2             26    6.0\n",
              "\n",
              "[5 rows x 30 columns]"
            ]
          },
          "metadata": {},
          "execution_count": 288
        }
      ]
    },
    {
      "cell_type": "code",
      "metadata": {
        "id": "AMe0p7w-rd-5"
      },
      "source": [
        "Y = df['MRP / sqm']\n",
        "df.drop(['MRP / sqm'], axis = 1, inplace  =True)\n",
        "X = df"
      ],
      "execution_count": 290,
      "outputs": []
    },
    {
      "cell_type": "code",
      "metadata": {
        "colab": {
          "base_uri": "https://localhost:8080/"
        },
        "id": "m383H371r-Up",
        "outputId": "8872a464-de4b-46a7-f8c9-d8754eae91dd"
      },
      "source": [
        "X.shape, Y.shape"
      ],
      "execution_count": 293,
      "outputs": [
        {
          "output_type": "execute_result",
          "data": {
            "text/plain": [
              "((17429, 29), (17429,))"
            ]
          },
          "metadata": {},
          "execution_count": 293
        }
      ]
    },
    {
      "cell_type": "code",
      "metadata": {
        "id": "hO_8WVDJrzsc"
      },
      "source": [
        "#splitting in train and test\n",
        "import sklearn\n",
        "from sklearn.model_selection import train_test_split"
      ],
      "execution_count": 294,
      "outputs": []
    },
    {
      "cell_type": "code",
      "metadata": {
        "colab": {
          "base_uri": "https://localhost:8080/"
        },
        "id": "OHTw4-R8AGso",
        "outputId": "91feb762-362d-4b45-fae0-817f32762b94"
      },
      "source": [
        "X_train,X_test,y_train,y_test = train_test_split(X, Y, test_size = 0.3 , random_state=111)\n",
        "\n",
        "print(X_train.shape)\n",
        "print(y_train.shape)\n",
        "print(X_test.shape)\n",
        "print(y_test.shape)"
      ],
      "execution_count": 295,
      "outputs": [
        {
          "output_type": "stream",
          "name": "stdout",
          "text": [
            "(12200, 29)\n",
            "(12200,)\n",
            "(5229, 29)\n",
            "(5229,)\n"
          ]
        }
      ]
    },
    {
      "cell_type": "code",
      "metadata": {
        "colab": {
          "base_uri": "https://localhost:8080/"
        },
        "id": "0nUDO_UsB1gb",
        "outputId": "d9a686ea-2ae9-4d49-8dcd-c39b02bffc6a"
      },
      "source": [
        "#XGBoost\n",
        "\n",
        "from xgboost import XGBRegressor\n",
        "# from xgboost.sklearn import XGBRegressor\n",
        "from sklearn import metrics\n",
        "# from ml_metrics import rmse\n",
        "\n",
        "# Define the model\n",
        "model = XGBRegressor(n_estimators=350,max_depth=15,learning_rate=.1,random_state=1,\n",
        "                     n_jobs=10, subsample=1,min_child_weight=0.6) \n",
        "\n",
        "# Fit the model\n",
        "model.fit(X_train, y_train)\n",
        "\n",
        "# Get validation predictions and MAE\n",
        "preds_valid = model.predict(X_test)\n",
        "\n",
        "\n",
        "print(\"RMSE (Your appraoch):\")\n",
        "# print(rmse(y_valid, preds_valid))\n",
        "print(np.sqrt(metrics.mean_squared_error(np.log(y_test), preds_valid)))"
      ],
      "execution_count": 303,
      "outputs": [
        {
          "output_type": "stream",
          "name": "stdout",
          "text": [
            "[14:32:20] WARNING: /workspace/src/objective/regression_obj.cu:152: reg:linear is now deprecated in favor of reg:squarederror.\n",
            "RMSE (Your appraoch):\n",
            "621.5977186691027\n"
          ]
        }
      ]
    },
    {
      "cell_type": "code",
      "metadata": {
        "id": "IdDY-CaDB2JQ"
      },
      "source": [
        "from sklearn.linear_model import LinearRegression\n",
        "from sklearn import metrics\n",
        "import numpy as np\n",
        "# from sklearn.metrics import r2_score\n",
        "\n",
        "# Define the model\n",
        "model = LinearRegression()\n",
        "# Fit the model\n",
        "model.fit(X_train, y_train)\n",
        "# Get validation predictions and MAE\n",
        "preds_valid = pd.Series(model.predict(X_test))"
      ],
      "execution_count": 304,
      "outputs": []
    },
    {
      "cell_type": "code",
      "metadata": {
        "colab": {
          "base_uri": "https://localhost:8080/"
        },
        "id": "XDsjl30QB2BM",
        "outputId": "b5efc432-4518-4622-86ce-48da38f5bc9f"
      },
      "source": [
        "# print('Coefficients: \\n', model.coef_)\n",
        "print(\"MAE: \", metrics.mean_absolute_error(y_test, preds_valid))\n",
        "print(\"Mean squared error: %.2f\" % metrics.mean_squared_error(y_test, preds_valid))\n",
        "# print(\"RMSE:\", np.sqrt(metrics.mean_squared_error(y_valid, preds_valid)))\n",
        "\n",
        "print('Variance score (r2): %.2f' % metrics.r2_score(y_test, preds_valid))\n",
        "# print(\"r2 score:\", metrics.r2_score(y_valid, preds_valid))"
      ],
      "execution_count": 307,
      "outputs": [
        {
          "output_type": "stream",
          "name": "stdout",
          "text": [
            "MAE:  19.762046818383944\n",
            "Mean squared error: 943.46\n",
            "Variance score (r2): 0.98\n"
          ]
        }
      ]
    },
    {
      "cell_type": "code",
      "metadata": {
        "id": "D9Vw0bwzB11i"
      },
      "source": [
        "test = \"/content/drive/MyDrive/TEST.csv\"\n"
      ],
      "execution_count": null,
      "outputs": []
    },
    {
      "cell_type": "code",
      "metadata": {
        "id": "Inqn74bvu-JA"
      },
      "source": [
        "df = pd.read_csv(test , header = 0, error_bad_lines=False, index_col=False)\n",
        "df.head()"
      ],
      "execution_count": null,
      "outputs": []
    },
    {
      "cell_type": "code",
      "metadata": {
        "id": "7_ZVFFs4vBeH"
      },
      "source": [
        ""
      ],
      "execution_count": null,
      "outputs": []
    }
  ]
}